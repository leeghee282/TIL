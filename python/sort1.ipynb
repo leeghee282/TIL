{
 "cells": [
  {
   "cell_type": "markdown",
   "id": "a4729a84",
   "metadata": {},
   "source": [
    "### 1. 버블 정렬(bubble sort)"
   ]
  },
  {
   "cell_type": "markdown",
   "id": "f53e32ee",
   "metadata": {},
   "source": [
    "    * 서로 인접한 두 원소를 비교\n",
    "    * 1회전이 끝나면 가장 큰 자료가 맨 뒤로 이동\n",
    "    * 2회전에서는 맨 끝 자료가 정렬에서 제외"
   ]
  },
  {
   "cell_type": "code",
   "execution_count": 1,
   "id": "4563fb42",
   "metadata": {},
   "outputs": [
    {
     "name": "stdout",
     "output_type": "stream",
     "text": [
      "[5, 2, 6, 3, 1, 7, 4, 8]\n",
      "[2, 5, 3, 1, 6, 4, 7, 8]\n",
      "[2, 3, 1, 5, 4, 6, 7, 8]\n",
      "[2, 1, 3, 4, 5, 6, 7, 8]\n",
      "[1, 2, 3, 4, 5, 6, 7, 8]\n",
      "[1, 2, 3, 4, 5, 6, 7, 8]\n",
      "[1, 2, 3, 4, 5, 6, 7, 8]\n"
     ]
    }
   ],
   "source": [
    "numbers = [5, 8, 2, 6, 3, 1, 7, 4]\n",
    "\n",
    "for i in range(len(numbers)-1, 0, -1):\n",
    "    \n",
    "    for j in range(i):\n",
    "        if numbers[j] > numbers[j+1]:\n",
    "            numbers[j], numbers[j+1] = numbers[j+1], numbers[j]\n",
    "    \n",
    "    print(numbers)\n"
   ]
  },
  {
   "cell_type": "markdown",
   "id": "cb22a658",
   "metadata": {},
   "source": [
    "### 2. 삽입 정렬(insertion sort)"
   ]
  },
  {
   "cell_type": "markdown",
   "id": "c83597e4",
   "metadata": {},
   "source": [
    "    * 자료 배열의 모든 요소를 앞에서부터 차례대로 이미 정렬된 배열 부분과 비교하여, 자신의 위치를 찾아 삽입\n",
    "    * 두 번째 자료부터 시작하여 그 앞의 자료들과 비교하여 삽입할 위치를 지정한 후 자료를 뒤로 옮기고 지정한 자리에 자료를 삽입"
   ]
  },
  {
   "cell_type": "code",
   "execution_count": 2,
   "id": "5e348348",
   "metadata": {},
   "outputs": [
    {
     "name": "stdout",
     "output_type": "stream",
     "text": [
      "[5, 8, 2, 6, 3, 1, 7, 4]\n",
      "[2, 5, 8, 6, 3, 1, 7, 4]\n",
      "[2, 5, 6, 8, 3, 1, 7, 4]\n",
      "[2, 3, 5, 6, 8, 1, 7, 4]\n",
      "[1, 2, 3, 5, 6, 8, 7, 4]\n",
      "[1, 2, 3, 5, 6, 7, 8, 4]\n",
      "[1, 2, 3, 4, 5, 6, 7, 8]\n"
     ]
    }
   ],
   "source": [
    "numbers = [5, 8, 2, 6, 3, 1, 7, 4]\n",
    "\n",
    "for i in range(1, len(numbers)):\n",
    "    key = numbers[i]\n",
    "    \n",
    "    for j in range(i, 0, -1):\n",
    "        if numbers[j-1] > key:\n",
    "            numbers[j] = numbers[j-1]\n",
    "            numbers[j-1] = key\n",
    "    \n",
    "    print(numbers)"
   ]
  },
  {
   "cell_type": "markdown",
   "id": "ae4b7977",
   "metadata": {},
   "source": [
    "### 3. 선택 정렬(selection sort)"
   ]
  },
  {
   "cell_type": "markdown",
   "id": "9dbdd55a",
   "metadata": {},
   "source": [
    "    * 선택 정렬은 첫 번째 자료를 두 번째 자료부터 마지막 자료까지 차례대로 비교하여 가장 작은 값을 찾아 첫 번째에 정렬.\n",
    "    * 2회전시 두 번째 자료를 세 번째 자료부터 마지막 자료까지와 차례대로 비교."
   ]
  },
  {
   "cell_type": "code",
   "execution_count": 43,
   "id": "361e33b1",
   "metadata": {},
   "outputs": [
    {
     "name": "stdout",
     "output_type": "stream",
     "text": [
      "[1, 8, 5, 6, 3, 2, 7, 4]\n",
      "[1, 2, 8, 6, 5, 3, 7, 4]\n",
      "[1, 2, 3, 8, 6, 5, 7, 4]\n",
      "[1, 2, 3, 4, 8, 6, 7, 5]\n",
      "[1, 2, 3, 4, 5, 8, 7, 6]\n",
      "[1, 2, 3, 4, 5, 6, 8, 7]\n",
      "[1, 2, 3, 4, 5, 6, 7, 8]\n"
     ]
    }
   ],
   "source": [
    "numbers = [5, 8, 2, 6, 3, 1, 7, 4]\n",
    "\n",
    "for i in range(len(numbers)-1):\n",
    "    min_number = numbers[i]\n",
    "    \n",
    "    for j in range(i+1, len(numbers)):\n",
    "        if min_number > numbers[j]:\n",
    "            min_number = numbers[j]\n",
    "            numbers[i], numbers[j] = min_number, numbers[i]\n",
    "    \n",
    "    print(numbers)\n"
   ]
  }
 ],
 "metadata": {
  "kernelspec": {
   "display_name": "Python 3 (ipykernel)",
   "language": "python",
   "name": "python3"
  },
  "language_info": {
   "codemirror_mode": {
    "name": "ipython",
    "version": 3
   },
   "file_extension": ".py",
   "mimetype": "text/x-python",
   "name": "python",
   "nbconvert_exporter": "python",
   "pygments_lexer": "ipython3",
   "version": "3.9.9"
  }
 },
 "nbformat": 4,
 "nbformat_minor": 5
}
