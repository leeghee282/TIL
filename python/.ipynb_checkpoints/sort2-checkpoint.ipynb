{
 "cells": [
  {
   "cell_type": "markdown",
   "id": "83b01723",
   "metadata": {},
   "source": [
    "## 합병 정렬(merge sort)"
   ]
  },
  {
   "cell_type": "markdown",
   "id": "89394a0a",
   "metadata": {},
   "source": [
    "    * 하나의 리스트를 균등한 크기로 분할하고 분할된 리스트를 정렬한 다음, 정렬된 부분 리스트를 합하여 전체를 정렬\n",
    "    * 과정\n",
    "        (1) 분할(Divide): 입력 배열을 같은 크기의 2개의 부분 배열로 분할\n",
    "        (2) 정복(Conquer): 부분 배열을 정렬한다. 부분 배열의 크기가 충분히 작지 않으면 순환 호출을 이용하여 다시 분할 정복\n",
    "        (3) 결합(Combine): 정렬된 부분 배열들을 하나의 배열에 합병"
   ]
  },
  {
   "cell_type": "code",
   "execution_count": 2,
   "id": "1435c820",
   "metadata": {},
   "outputs": [
    {
     "data": {
      "text/plain": [
       "[1, 2, 3, 4, 5, 6, 7, 8]"
      ]
     },
     "execution_count": 2,
     "metadata": {},
     "output_type": "execute_result"
    }
   ],
   "source": [
    "def merge_sort(num_list):\n",
    "    if len(num_list) < 2:\n",
    "        return num_list\n",
    "\n",
    "    mid = len(num_list) // 2\n",
    "    low_list = merge_sort(num_list[:mid])\n",
    "    high_list = merge_sort(num_list[mid:])\n",
    "\n",
    "    merged_list = []\n",
    "    l = h = 0\n",
    "    \n",
    "    while l < len(low_list) and h < len(high_list):\n",
    "        if low_list[l] < high_list[h]:\n",
    "            merged_list.append(low_list[l])\n",
    "            l += 1\n",
    "        else:\n",
    "            merged_list.append(high_list[h])\n",
    "            h += 1\n",
    "    \n",
    "    merged_list += low_list[l:]\n",
    "    merged_list += high_list[h:]\n",
    "    \n",
    "    return merged_list\n",
    "\n",
    "numbers = [5, 8, 2, 6, 3, 1, 7, 4]\n",
    "\n",
    "merge_sort(numbers)"
   ]
  }
 ],
 "metadata": {
  "kernelspec": {
   "display_name": "Python 3 (ipykernel)",
   "language": "python",
   "name": "python3"
  },
  "language_info": {
   "codemirror_mode": {
    "name": "ipython",
    "version": 3
   },
   "file_extension": ".py",
   "mimetype": "text/x-python",
   "name": "python",
   "nbconvert_exporter": "python",
   "pygments_lexer": "ipython3",
   "version": "3.9.9"
  }
 },
 "nbformat": 4,
 "nbformat_minor": 5
}
